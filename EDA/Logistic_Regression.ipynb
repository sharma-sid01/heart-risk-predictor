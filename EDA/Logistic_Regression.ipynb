{
 "cells": [
  {
   "cell_type": "code",
   "execution_count": 5,
   "id": "08bd8f49",
   "metadata": {},
   "outputs": [
    {
     "name": "stdout",
     "output_type": "stream",
     "text": [
      "[0.39576892] [[ 0.35495661 -0.00537564 -0.02543488  0.16694067  0.99925189  0.04729565\n",
      "   0.34705196 -0.12137391 -0.14694369 -0.21181215 -0.22613254]]\n",
      "Accuracy: 0.7250671896564248\n",
      "AUC score: 0.7238757884610187\n",
      "Confusion Matrix: [[5465, 1575], [2210, 4517]]\n",
      "True Positives: 4517\n",
      "False Positives: 1575\n",
      "True Negatives: 5465\n",
      "False Negatives: 2210\n"
     ]
    }
   ],
   "source": [
    "import pandas as pd\n",
    "import numpy as np\n",
    "from sklearn.model_selection import train_test_split\n",
    "from sklearn.linear_model import LogisticRegression\n",
    "from sklearn.preprocessing import StandardScaler\n",
    "from sklearn.metrics import classification_report, confusion_matrix, accuracy_score, confusion_matrix, roc_auc_score\n",
    "\n",
    "# Read the heart data data set file\n",
    "df = pd.read_csv('heart_data.csv')\n",
    "\n",
    "#drop index, id columns                 \n",
    "df.drop(df.iloc[:,0:2], inplace =True, axis =1)\n",
    "\n",
    "#Translate age in days to age in years - divide by 365.25 and convert to int\n",
    "ageInYrs =  df['age'] = (df['age']/ 365.25).astype(int)\n",
    "\n",
    "#skip negative ap hi and lo values\n",
    "df.drop(df[df['ap_hi'] < 20].index, inplace=True)\n",
    "df.drop(df[df['ap_lo'] < 20].index, inplace=True)\n",
    "\n",
    "df.drop(df[df['ap_hi'] > 900].index, inplace=True)\n",
    "df.drop(df[df['ap_lo'] > 910].index, inplace=True)\n",
    "\n",
    "#Standardize data\n",
    "age_std_scale = StandardScaler()\n",
    "gender_std_scale = StandardScaler()\n",
    "height_std_scale = StandardScaler()\n",
    "weight_std_scale = StandardScaler()\n",
    "aphi_std_scale = StandardScaler()\n",
    "aplo_std_scale = StandardScaler()\n",
    "cholesterol_std_scale = StandardScaler()\n",
    "\n",
    "df['age'] = age_std_scale.fit_transform(df[['age']])\n",
    "df['gender'] = gender_std_scale.fit_transform(df[['gender']])\n",
    "df['height'] = height_std_scale.fit_transform(df[['height']])\n",
    "df['weight'] = weight_std_scale.fit_transform(df[['weight']])\n",
    "df['ap_hi'] = aphi_std_scale.fit_transform(df[['ap_hi']])\n",
    "df['ap_lo'] = aplo_std_scale.fit_transform(df[['ap_lo']])\n",
    "df['cholesterol'] = cholesterol_std_scale.fit_transform(df[['cholesterol']])\n",
    "\n",
    "# Modeling - Logistic Regression\n",
    "X = df[['age','gender','height','weight','ap_hi','ap_lo','cholesterol','gluc','smoke','alco','active']]\n",
    "y = df['cardio']\n",
    "X_train, X_test, y_train, y_test = train_test_split(X, y, test_size=0.2, random_state=42)\n",
    "\n",
    "model = LogisticRegression(max_iter=1000)\n",
    "model.fit(X_train, y_train)\n",
    "\n",
    "print(model.intercept_, model.coef_)\n",
    "\n",
    "# Modeling - Test\n",
    "y_pred = model.predict(X_test)\n",
    "\n",
    "#Modeling - Performance\n",
    "print(\"Accuracy:\", accuracy_score(y_test, y_pred))\n",
    "print(\"AUC score:\", roc_auc_score(y_test, y_pred))\n",
    "tn, fp, fn, tp = confusion_matrix(y_test, y_pred).ravel()\n",
    "print(f\"Confusion Matrix: [[{tn}, {fp}], [{fn}, {tp}]]\")\n",
    "print(f\"True Positives: {tp}\")\n",
    "print(f\"False Positives: {fp}\")\n",
    "print(f\"True Negatives: {tn}\")\n",
    "print(f\"False Negatives: {fn}\")"
   ]
  }
 ],
 "metadata": {
  "kernelspec": {
   "display_name": "Python 3 (ipykernel)",
   "language": "python",
   "name": "python3"
  },
  "language_info": {
   "codemirror_mode": {
    "name": "ipython",
    "version": 3
   },
   "file_extension": ".py",
   "mimetype": "text/x-python",
   "name": "python",
   "nbconvert_exporter": "python",
   "pygments_lexer": "ipython3",
   "version": "3.9.13"
  }
 },
 "nbformat": 4,
 "nbformat_minor": 5
}
